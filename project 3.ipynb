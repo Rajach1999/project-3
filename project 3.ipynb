{
 "cells": [
  {
   "cell_type": "markdown",
   "metadata": {},
   "source": [
    "# installs required"
   ]
  },
  {
   "cell_type": "markdown",
   "metadata": {},
   "source": [
    "# opencv\n",
    "# pyautogui\n",
    "# pyperclip"
   ]
  },
  {
   "cell_type": "markdown",
   "metadata": {},
   "source": [
    "# Imports"
   ]
  },
  {
   "cell_type": "code",
   "execution_count": 1,
   "metadata": {},
   "outputs": [],
   "source": [
    "import pyautogui as pt\n",
    "from time import sleep\n",
    "import pyperclip\n",
    "import random "
   ]
  },
  {
   "cell_type": "markdown",
   "metadata": {},
   "source": [
    "# Automatic whatsapp responser"
   ]
  },
  {
   "cell_type": "code",
   "execution_count": 14,
   "metadata": {},
   "outputs": [],
   "source": [
    "sleep(5)\n",
    "\n",
    "position1 = pt.locateOnScreen(\"smiley.png\",confidence=.6)\n",
    "x = position1[0]\n",
    "y = position1[1]\n",
    "\n",
    "def get_message():\n",
    "    global x,y\n",
    "    \n",
    "    position = pt.locateOnScreen(\"smiley.png\",confidence=.6)\n",
    "    x = position[0]\n",
    "    y = position[1]\n",
    "    \n",
    "    pt.moveTo(x,y)\n",
    "    pt.moveTo(x+75,y-45)\n",
    "    pt.tripleClick()\n",
    "    pt.hotkey('ctrl', 'c')\n",
    "    return pyperclip.paste()\n",
    "\n",
    "def post_response(message):\n",
    "    global x,y\n",
    "    position = pt.locateOnScreen(\"smiley.png\",confidence=.6)\n",
    "    x = position[0]\n",
    "    y = position[1]\n",
    "    pt.moveTo(x+200,y + 20)\n",
    "    pt.click()\n",
    "    pt.typewrite(message,interval = .01)\n",
    "    \n",
    "    pt.typewrite(\"\\n\",interval = .01)\n",
    "    \n",
    "    \n",
    "msg = get_message()\n",
    "post_response(msg)"
   ]
  },
  {
   "cell_type": "markdown",
   "metadata": {},
   "source": [
    "# Automatically skipping add in youtube\n",
    "\n"
   ]
  },
  {
   "cell_type": "code",
   "execution_count": 1,
   "metadata": {},
   "outputs": [],
   "source": [
    "import pyautogui as pt\n",
    "from time import sleep\n",
    "import pyperclip\n",
    "import random \n",
    "\n",
    "sleep(3)\n",
    "\n",
    "def get_message():\n",
    "    global x,y\n",
    "    position = None\n",
    "    while True:\n",
    "        position = pt.locateOnScreen(\"skipadd.png\",confidence=.6)\n",
    "        if position is not None:\n",
    "            break\n",
    "    x = position[0]\n",
    "    y = position[1]\n",
    "    \n",
    "    pt.click(x+10,y+10)\n",
    "    \n",
    "get_message()"
   ]
  }
 ],
 "metadata": {
  "kernelspec": {
   "display_name": "Python 3",
   "language": "python",
   "name": "python3"
  },
  "language_info": {
   "codemirror_mode": {
    "name": "ipython",
    "version": 3
   },
   "file_extension": ".py",
   "mimetype": "text/x-python",
   "name": "python",
   "nbconvert_exporter": "python",
   "pygments_lexer": "ipython3",
   "version": "3.8.8"
  }
 },
 "nbformat": 4,
 "nbformat_minor": 2
}
